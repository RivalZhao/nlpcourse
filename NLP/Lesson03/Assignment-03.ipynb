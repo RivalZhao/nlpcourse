{
 "cells": [
  {
   "cell_type": "markdown",
   "metadata": {},
   "source": [
    "## Lecture-03 Gradient Descent and Dymanic Programming"
   ]
  },
  {
   "cell_type": "markdown",
   "metadata": {},
   "source": [
    "In this week, we need complete following tasks:\n",
    "+ Re-review the course online programming; \n",
    "+ Choose 1 - 2 books which you interested and keep reading; \n",
    "+ Answer the review questions\n",
    "+ Prepare the basic requirement of our 1st project. "
   ]
  },
  {
   "cell_type": "markdown",
   "metadata": {},
   "source": [
    "### Part I Review the online programming. "
   ]
  },
  {
   "cell_type": "code",
   "execution_count": null,
   "metadata": {},
   "outputs": [],
   "source": [
    "Lecture-03-Decorator-and-Dynamic-practice.ipynb\n",
    "ass_house_price.py"
   ]
  },
  {
   "cell_type": "markdown",
   "metadata": {},
   "source": [
    "### Part 2: change loss function from $loss = \\frac{1}{n}\\sum{(y_i - \\hat(y_i))^2}$ to $loss = \\frac{1}{n}\\sum{|y_i - \\hat{y_i}|}$, and using your mathmatical knowledge to get the right partial formual. Implemen the gradient descent code."
   ]
  },
  {
   "cell_type": "code",
   "execution_count": 4,
   "metadata": {},
   "outputs": [
    {
     "name": "stdout",
     "output_type": "stream",
     "text": [
      "When time is : 0, get best_k: 12.596070879559406 best_b: -86.80013989248582, and the loss is: 30.17872966736562\n",
      "When time is : 100, get best_k: 12.65891722343293 best_b: -86.79013989248548, and the loss is: 29.775983890926597\n",
      "When time is : 200, get best_k: 12.721763567306454 best_b: -86.78013989248515, and the loss is: 29.373238114487574\n",
      "When time is : 300, get best_k: 12.784609911179977 best_b: -86.77013989248482, and the loss is: 28.97049233804858\n",
      "When time is : 400, get best_k: 12.847456255053501 best_b: -86.76013989248449, and the loss is: 28.56774656160952\n",
      "When time is : 500, get best_k: 12.910302598927025 best_b: -86.75013989248416, and the loss is: 28.16500078517047\n",
      "When time is : 600, get best_k: 12.973148942800549 best_b: -86.74013989248382, and the loss is: 27.76225500873143\n",
      "When time is : 700, get best_k: 13.035995286674073 best_b: -86.73013989248349, and the loss is: 27.359509232292396\n",
      "When time is : 800, get best_k: 13.098841630547597 best_b: -86.72013989248316, and the loss is: 26.956763455853366\n",
      "When time is : 900, get best_k: 13.16168797442112 best_b: -86.71013989248283, and the loss is: 26.55401767941436\n",
      "When time is : 1000, get best_k: 13.224534318294644 best_b: -86.7001398924825, and the loss is: 26.15127190297531\n",
      "When time is : 1100, get best_k: 13.287380662168168 best_b: -86.69013989248216, and the loss is: 25.74852612653627\n",
      "When time is : 1200, get best_k: 13.350227006041692 best_b: -86.68013989248183, and the loss is: 25.345780350097222\n",
      "When time is : 1300, get best_k: 13.413073349915216 best_b: -86.6701398924815, and the loss is: 24.943034573658245\n",
      "When time is : 1400, get best_k: 13.47591969378874 best_b: -86.66013989248117, and the loss is: 24.540288797219166\n",
      "When time is : 1500, get best_k: 13.538766037662263 best_b: -86.65013989248084, and the loss is: 24.137543020780175\n",
      "When time is : 1600, get best_k: 13.601612381535787 best_b: -86.6401398924805, and the loss is: 23.734797244341124\n",
      "When time is : 1700, get best_k: 13.664458725409311 best_b: -86.63013989248017, and the loss is: 23.33205146790207\n",
      "When time is : 1800, get best_k: 13.727305069282835 best_b: -86.62013989247984, and the loss is: 22.92930569146305\n",
      "When time is : 1900, get best_k: 13.790151413156359 best_b: -86.61013989247951, and the loss is: 22.526559915023988\n",
      "When time is : 2000, get best_k: 13.852997757029883 best_b: -86.60013989247918, and the loss is: 22.123814138584965\n",
      "When time is : 2100, get best_k: 13.915844100903406 best_b: -86.59013989247885, and the loss is: 21.722900547194453\n",
      "When time is : 2200, get best_k: 13.97869044477693 best_b: -86.58013989247851, and the loss is: 21.327030810464166\n",
      "When time is : 2300, get best_k: 14.041536788650454 best_b: -86.57013989247818, and the loss is: 20.931370393675696\n",
      "When time is : 2400, get best_k: 14.104383132523978 best_b: -86.56013989247785, and the loss is: 20.53570997688729\n",
      "When time is : 2500, get best_k: 14.167229476397502 best_b: -86.55013989247752, and the loss is: 20.141583898543633\n",
      "When time is : 2600, get best_k: 14.230075820271026 best_b: -86.54013989247719, and the loss is: 19.747799462072415\n",
      "When time is : 2700, get best_k: 14.29292216414455 best_b: -86.53013989247685, and the loss is: 19.35401502560121\n",
      "When time is : 2800, get best_k: 14.355768508018073 best_b: -86.52013989247652, and the loss is: 18.960230589129996\n",
      "When time is : 2900, get best_k: 14.418614851891597 best_b: -86.51013989247619, and the loss is: 18.566446152658788\n",
      "When time is : 3000, get best_k: 14.481461195765121 best_b: -86.50013989247586, and the loss is: 18.172661716187573\n",
      "When time is : 3100, get best_k: 14.544307539638645 best_b: -86.49013989247553, and the loss is: 17.77887727971638\n",
      "When time is : 3200, get best_k: 14.607153883512169 best_b: -86.4801398924752, and the loss is: 17.386287658241375\n",
      "When time is : 3300, get best_k: 14.670000227385692 best_b: -86.47013989247486, and the loss is: 16.994140982151535\n",
      "When time is : 3400, get best_k: 14.732846571259216 best_b: -86.46013989247453, and the loss is: 16.603750118083802\n",
      "When time is : 3500, get best_k: 14.79569291513274 best_b: -86.4501398924742, and the loss is: 16.21587750913993\n",
      "When time is : 3600, get best_k: 14.858539259006264 best_b: -86.44013989247387, and the loss is: 15.830526056219876\n",
      "When time is : 3700, get best_k: 14.921385602879788 best_b: -86.43013989247353, and the loss is: 15.447970102770595\n",
      "When time is : 3800, get best_k: 14.984231946753312 best_b: -86.4201398924732, and the loss is: 15.065928450437186\n",
      "When time is : 3900, get best_k: 15.047078290626835 best_b: -86.41013989247287, and the loss is: 14.684243397320076\n",
      "When time is : 4000, get best_k: 15.10992463450036 best_b: -86.40013989247254, and the loss is: 14.307338868442407\n",
      "When time is : 4100, get best_k: 15.172770978373883 best_b: -86.3901398924722, and the loss is: 13.932009720573204\n",
      "When time is : 4200, get best_k: 15.235617322247407 best_b: -86.38013989247187, and the loss is: 13.557576669114782\n",
      "When time is : 4300, get best_k: 15.29846366612093 best_b: -86.37013989247154, and the loss is: 13.184844597690832\n",
      "When time is : 4400, get best_k: 15.361310009994455 best_b: -86.36013989247121, and the loss is: 12.813607506091486\n",
      "When time is : 4500, get best_k: 15.424156353867978 best_b: -86.35013989247088, and the loss is: 12.450664927841872\n",
      "When time is : 4600, get best_k: 15.487002697741502 best_b: -86.34013989247055, and the loss is: 12.093478011272778\n",
      "When time is : 4700, get best_k: 15.549849041615026 best_b: -86.33013989247021, and the loss is: 11.741313386154046\n",
      "When time is : 4800, get best_k: 15.61269538548855 best_b: -86.32013989246988, and the loss is: 11.392478670855452\n",
      "When time is : 4900, get best_k: 15.675541729362074 best_b: -86.31013989246955, and the loss is: 11.04944241676867\n",
      "When time is : 5000, get best_k: 15.738388073235598 best_b: -86.30013989246922, and the loss is: 10.716345792790499\n",
      "When time is : 5100, get best_k: 15.801234417109121 best_b: -86.29013989246889, and the loss is: 10.388419648689421\n",
      "When time is : 5200, get best_k: 15.864080760982645 best_b: -86.28013989246855, and the loss is: 10.068114025137806\n",
      "When time is : 5300, get best_k: 15.92692710485617 best_b: -86.27013989246822, and the loss is: 9.754627542787034\n",
      "When time is : 5400, get best_k: 15.989773448729693 best_b: -86.26013989246789, and the loss is: 9.449490944542442\n",
      "When time is : 5500, get best_k: 16.052619792603068 best_b: -86.25013989246756, and the loss is: 9.151069779830408\n",
      "When time is : 5600, get best_k: 16.115466136476414 best_b: -86.24013989246723, and the loss is: 8.862508732708111\n",
      "When time is : 5700, get best_k: 16.17831248034976 best_b: -86.2301398924669, and the loss is: 8.58337394389219\n",
      "When time is : 5800, get best_k: 16.241158824223106 best_b: -86.22013989246656, and the loss is: 8.310349790504317\n",
      "When time is : 5900, get best_k: 16.271325069282312 best_b: -86.2153398924664, and the loss is: 8.184997760890635\n",
      "When time is : 6000, get best_k: 16.271325069282312 best_b: -86.2153398924664, and the loss is: 8.184997760890635\n",
      "When time is : 6100, get best_k: 16.271325069282312 best_b: -86.2153398924664, and the loss is: 8.184997760890635\n",
      "When time is : 6200, get best_k: 16.271325069282312 best_b: -86.2153398924664, and the loss is: 8.184997760890635\n",
      "When time is : 6300, get best_k: 16.271325069282312 best_b: -86.2153398924664, and the loss is: 8.184997760890635\n",
      "When time is : 6400, get best_k: 16.271325069282312 best_b: -86.2153398924664, and the loss is: 8.184997760890635\n",
      "When time is : 6500, get best_k: 16.271325069282312 best_b: -86.2153398924664, and the loss is: 8.184997760890635\n",
      "When time is : 6600, get best_k: 16.271325069282312 best_b: -86.2153398924664, and the loss is: 8.184997760890635\n",
      "When time is : 6700, get best_k: 16.271325069282312 best_b: -86.2153398924664, and the loss is: 8.184997760890635\n",
      "When time is : 6800, get best_k: 16.271325069282312 best_b: -86.2153398924664, and the loss is: 8.184997760890635\n",
      "When time is : 6900, get best_k: 16.271325069282312 best_b: -86.2153398924664, and the loss is: 8.184997760890635\n",
      "When time is : 7000, get best_k: 16.271325069282312 best_b: -86.2153398924664, and the loss is: 8.184997760890635\n",
      "When time is : 7100, get best_k: 16.271325069282312 best_b: -86.2153398924664, and the loss is: 8.184997760890635\n",
      "When time is : 7200, get best_k: 16.271325069282312 best_b: -86.2153398924664, and the loss is: 8.184997760890635\n",
      "When time is : 7300, get best_k: 16.271325069282312 best_b: -86.2153398924664, and the loss is: 8.184997760890635\n"
     ]
    },
    {
     "name": "stdout",
     "output_type": "stream",
     "text": [
      "When time is : 7400, get best_k: 16.271325069282312 best_b: -86.2153398924664, and the loss is: 8.184997760890635\n",
      "When time is : 7500, get best_k: 16.271325069282312 best_b: -86.2153398924664, and the loss is: 8.184997760890635\n",
      "When time is : 7600, get best_k: 16.271325069282312 best_b: -86.2153398924664, and the loss is: 8.184997760890635\n",
      "When time is : 7700, get best_k: 16.271325069282312 best_b: -86.2153398924664, and the loss is: 8.184997760890635\n",
      "When time is : 7800, get best_k: 16.271325069282312 best_b: -86.2153398924664, and the loss is: 8.184997760890635\n",
      "When time is : 7900, get best_k: 16.271325069282312 best_b: -86.2153398924664, and the loss is: 8.184997760890635\n",
      "When time is : 8000, get best_k: 16.271325069282312 best_b: -86.2153398924664, and the loss is: 8.184997760890635\n",
      "When time is : 8100, get best_k: 16.271325069282312 best_b: -86.2153398924664, and the loss is: 8.184997760890635\n",
      "When time is : 8200, get best_k: 16.271325069282312 best_b: -86.2153398924664, and the loss is: 8.184997760890635\n",
      "When time is : 8300, get best_k: 16.271325069282312 best_b: -86.2153398924664, and the loss is: 8.184997760890635\n",
      "When time is : 8400, get best_k: 16.271325069282312 best_b: -86.2153398924664, and the loss is: 8.184997760890635\n",
      "When time is : 8500, get best_k: 16.271325069282312 best_b: -86.2153398924664, and the loss is: 8.184997760890635\n",
      "When time is : 8600, get best_k: 16.271325069282312 best_b: -86.2153398924664, and the loss is: 8.184997760890635\n",
      "When time is : 8700, get best_k: 16.271325069282312 best_b: -86.2153398924664, and the loss is: 8.184997760890635\n",
      "When time is : 8800, get best_k: 16.271325069282312 best_b: -86.2153398924664, and the loss is: 8.184997760890635\n",
      "When time is : 8900, get best_k: 16.271325069282312 best_b: -86.2153398924664, and the loss is: 8.184997760890635\n",
      "When time is : 9000, get best_k: 16.271325069282312 best_b: -86.2153398924664, and the loss is: 8.184997760890635\n",
      "When time is : 9100, get best_k: 16.271325069282312 best_b: -86.2153398924664, and the loss is: 8.184997760890635\n",
      "When time is : 9200, get best_k: 16.271325069282312 best_b: -86.2153398924664, and the loss is: 8.184997760890635\n",
      "When time is : 9300, get best_k: 16.271325069282312 best_b: -86.2153398924664, and the loss is: 8.184997760890635\n",
      "When time is : 9400, get best_k: 16.271325069282312 best_b: -86.2153398924664, and the loss is: 8.184997760890635\n",
      "When time is : 9500, get best_k: 16.271325069282312 best_b: -86.2153398924664, and the loss is: 8.184997760890635\n",
      "When time is : 9600, get best_k: 16.271325069282312 best_b: -86.2153398924664, and the loss is: 8.184997760890635\n",
      "When time is : 9700, get best_k: 16.271325069282312 best_b: -86.2153398924664, and the loss is: 8.184997760890635\n",
      "When time is : 9800, get best_k: 16.271325069282312 best_b: -86.2153398924664, and the loss is: 8.184997760890635\n",
      "When time is : 9900, get best_k: 16.271325069282312 best_b: -86.2153398924664, and the loss is: 8.184997760890635\n",
      "When time is : 10000, get best_k: 16.271325069282312 best_b: -86.2153398924664, and the loss is: 8.184997760890635\n",
      "When time is : 10100, get best_k: 16.271325069282312 best_b: -86.2153398924664, and the loss is: 8.184997760890635\n",
      "When time is : 10200, get best_k: 16.271325069282312 best_b: -86.2153398924664, and the loss is: 8.184997760890635\n",
      "When time is : 10300, get best_k: 16.271325069282312 best_b: -86.2153398924664, and the loss is: 8.184997760890635\n",
      "When time is : 10400, get best_k: 16.271325069282312 best_b: -86.2153398924664, and the loss is: 8.184997760890635\n",
      "When time is : 10500, get best_k: 16.271325069282312 best_b: -86.2153398924664, and the loss is: 8.184997760890635\n",
      "When time is : 10600, get best_k: 16.271325069282312 best_b: -86.2153398924664, and the loss is: 8.184997760890635\n",
      "When time is : 10700, get best_k: 16.271325069282312 best_b: -86.2153398924664, and the loss is: 8.184997760890635\n",
      "When time is : 10800, get best_k: 16.271325069282312 best_b: -86.2153398924664, and the loss is: 8.184997760890635\n",
      "When time is : 10900, get best_k: 16.271325069282312 best_b: -86.2153398924664, and the loss is: 8.184997760890635\n",
      "When time is : 11000, get best_k: 16.271325069282312 best_b: -86.2153398924664, and the loss is: 8.184997760890635\n",
      "When time is : 11100, get best_k: 16.271325069282312 best_b: -86.2153398924664, and the loss is: 8.184997760890635\n",
      "When time is : 11200, get best_k: 16.271325069282312 best_b: -86.2153398924664, and the loss is: 8.184997760890635\n",
      "When time is : 11300, get best_k: 16.271325069282312 best_b: -86.2153398924664, and the loss is: 8.184997760890635\n",
      "When time is : 11400, get best_k: 16.271325069282312 best_b: -86.2153398924664, and the loss is: 8.184997760890635\n",
      "When time is : 11500, get best_k: 16.271325069282312 best_b: -86.2153398924664, and the loss is: 8.184997760890635\n",
      "When time is : 11600, get best_k: 16.271325069282312 best_b: -86.2153398924664, and the loss is: 8.184997760890635\n",
      "When time is : 11700, get best_k: 16.271325069282312 best_b: -86.2153398924664, and the loss is: 8.184997760890635\n",
      "When time is : 11800, get best_k: 16.271325069282312 best_b: -86.2153398924664, and the loss is: 8.184997760890635\n",
      "When time is : 11900, get best_k: 16.271325069282312 best_b: -86.2153398924664, and the loss is: 8.184997760890635\n",
      "When time is : 12000, get best_k: 16.271325069282312 best_b: -86.2153398924664, and the loss is: 8.184997760890635\n",
      "When time is : 12100, get best_k: 16.271325069282312 best_b: -86.2153398924664, and the loss is: 8.184997760890635\n",
      "When time is : 12200, get best_k: 16.271325069282312 best_b: -86.2153398924664, and the loss is: 8.184997760890635\n",
      "When time is : 12300, get best_k: 16.271325069282312 best_b: -86.2153398924664, and the loss is: 8.184997760890635\n",
      "When time is : 12400, get best_k: 16.271325069282312 best_b: -86.2153398924664, and the loss is: 8.184997760890635\n",
      "When time is : 12500, get best_k: 16.271325069282312 best_b: -86.2153398924664, and the loss is: 8.184997760890635\n",
      "When time is : 12600, get best_k: 16.271325069282312 best_b: -86.2153398924664, and the loss is: 8.184997760890635\n",
      "When time is : 12700, get best_k: 16.271325069282312 best_b: -86.2153398924664, and the loss is: 8.184997760890635\n",
      "When time is : 12800, get best_k: 16.271325069282312 best_b: -86.2153398924664, and the loss is: 8.184997760890635\n",
      "When time is : 12900, get best_k: 16.271325069282312 best_b: -86.2153398924664, and the loss is: 8.184997760890635\n",
      "When time is : 13000, get best_k: 16.271325069282312 best_b: -86.2153398924664, and the loss is: 8.184997760890635\n",
      "When time is : 13100, get best_k: 16.271325069282312 best_b: -86.2153398924664, and the loss is: 8.184997760890635\n",
      "When time is : 13200, get best_k: 16.271325069282312 best_b: -86.2153398924664, and the loss is: 8.184997760890635\n",
      "When time is : 13300, get best_k: 16.271325069282312 best_b: -86.2153398924664, and the loss is: 8.184997760890635\n",
      "When time is : 13400, get best_k: 16.271325069282312 best_b: -86.2153398924664, and the loss is: 8.184997760890635\n",
      "When time is : 13500, get best_k: 16.271325069282312 best_b: -86.2153398924664, and the loss is: 8.184997760890635\n",
      "When time is : 13600, get best_k: 16.271325069282312 best_b: -86.2153398924664, and the loss is: 8.184997760890635\n",
      "When time is : 13700, get best_k: 16.271325069282312 best_b: -86.2153398924664, and the loss is: 8.184997760890635\n",
      "When time is : 13800, get best_k: 16.271325069282312 best_b: -86.2153398924664, and the loss is: 8.184997760890635\n",
      "When time is : 13900, get best_k: 16.271325069282312 best_b: -86.2153398924664, and the loss is: 8.184997760890635\n",
      "When time is : 14000, get best_k: 16.271325069282312 best_b: -86.2153398924664, and the loss is: 8.184997760890635\n",
      "When time is : 14100, get best_k: 16.271325069282312 best_b: -86.2153398924664, and the loss is: 8.184997760890635\n",
      "When time is : 14200, get best_k: 16.271325069282312 best_b: -86.2153398924664, and the loss is: 8.184997760890635\n",
      "When time is : 14300, get best_k: 16.271325069282312 best_b: -86.2153398924664, and the loss is: 8.184997760890635\n",
      "When time is : 14400, get best_k: 16.271325069282312 best_b: -86.2153398924664, and the loss is: 8.184997760890635\n",
      "When time is : 14500, get best_k: 16.271325069282312 best_b: -86.2153398924664, and the loss is: 8.184997760890635\n",
      "When time is : 14600, get best_k: 16.271325069282312 best_b: -86.2153398924664, and the loss is: 8.184997760890635\n"
     ]
    },
    {
     "name": "stdout",
     "output_type": "stream",
     "text": [
      "When time is : 14700, get best_k: 16.271325069282312 best_b: -86.2153398924664, and the loss is: 8.184997760890635\n",
      "When time is : 14800, get best_k: 16.271325069282312 best_b: -86.2153398924664, and the loss is: 8.184997760890635\n",
      "When time is : 14900, get best_k: 16.271325069282312 best_b: -86.2153398924664, and the loss is: 8.184997760890635\n",
      "When time is : 15000, get best_k: 16.271325069282312 best_b: -86.2153398924664, and the loss is: 8.184997760890635\n",
      "When time is : 15100, get best_k: 16.271325069282312 best_b: -86.2153398924664, and the loss is: 8.184997760890635\n",
      "When time is : 15200, get best_k: 16.271325069282312 best_b: -86.2153398924664, and the loss is: 8.184997760890635\n",
      "When time is : 15300, get best_k: 16.271325069282312 best_b: -86.2153398924664, and the loss is: 8.184997760890635\n",
      "When time is : 15400, get best_k: 16.271325069282312 best_b: -86.2153398924664, and the loss is: 8.184997760890635\n",
      "When time is : 15500, get best_k: 16.271325069282312 best_b: -86.2153398924664, and the loss is: 8.184997760890635\n",
      "When time is : 15600, get best_k: 16.271325069282312 best_b: -86.2153398924664, and the loss is: 8.184997760890635\n",
      "When time is : 15700, get best_k: 16.271325069282312 best_b: -86.2153398924664, and the loss is: 8.184997760890635\n",
      "When time is : 15800, get best_k: 16.271325069282312 best_b: -86.2153398924664, and the loss is: 8.184997760890635\n",
      "When time is : 15900, get best_k: 16.271325069282312 best_b: -86.2153398924664, and the loss is: 8.184997760890635\n",
      "When time is : 16000, get best_k: 16.271325069282312 best_b: -86.2153398924664, and the loss is: 8.184997760890635\n",
      "When time is : 16100, get best_k: 16.271325069282312 best_b: -86.2153398924664, and the loss is: 8.184997760890635\n",
      "When time is : 16200, get best_k: 16.271325069282312 best_b: -86.2153398924664, and the loss is: 8.184997760890635\n",
      "When time is : 16300, get best_k: 16.271325069282312 best_b: -86.2153398924664, and the loss is: 8.184997760890635\n",
      "When time is : 16400, get best_k: 16.271325069282312 best_b: -86.2153398924664, and the loss is: 8.184997760890635\n",
      "When time is : 16500, get best_k: 16.271325069282312 best_b: -86.2153398924664, and the loss is: 8.184997760890635\n",
      "When time is : 16600, get best_k: 16.271325069282312 best_b: -86.2153398924664, and the loss is: 8.184997760890635\n",
      "When time is : 16700, get best_k: 16.271325069282312 best_b: -86.2153398924664, and the loss is: 8.184997760890635\n",
      "When time is : 16800, get best_k: 16.271325069282312 best_b: -86.2153398924664, and the loss is: 8.184997760890635\n",
      "When time is : 16900, get best_k: 16.271325069282312 best_b: -86.2153398924664, and the loss is: 8.184997760890635\n",
      "When time is : 17000, get best_k: 16.271325069282312 best_b: -86.2153398924664, and the loss is: 8.184997760890635\n",
      "When time is : 17100, get best_k: 16.271325069282312 best_b: -86.2153398924664, and the loss is: 8.184997760890635\n",
      "When time is : 17200, get best_k: 16.271325069282312 best_b: -86.2153398924664, and the loss is: 8.184997760890635\n",
      "When time is : 17300, get best_k: 16.271325069282312 best_b: -86.2153398924664, and the loss is: 8.184997760890635\n",
      "When time is : 17400, get best_k: 16.271325069282312 best_b: -86.2153398924664, and the loss is: 8.184997760890635\n",
      "When time is : 17500, get best_k: 16.271325069282312 best_b: -86.2153398924664, and the loss is: 8.184997760890635\n",
      "When time is : 17600, get best_k: 16.271325069282312 best_b: -86.2153398924664, and the loss is: 8.184997760890635\n",
      "When time is : 17700, get best_k: 16.271325069282312 best_b: -86.2153398924664, and the loss is: 8.184997760890635\n",
      "When time is : 17800, get best_k: 16.271325069282312 best_b: -86.2153398924664, and the loss is: 8.184997760890635\n",
      "When time is : 17900, get best_k: 16.271325069282312 best_b: -86.2153398924664, and the loss is: 8.184997760890635\n",
      "When time is : 18000, get best_k: 16.271325069282312 best_b: -86.2153398924664, and the loss is: 8.184997760890635\n",
      "When time is : 18100, get best_k: 16.271325069282312 best_b: -86.2153398924664, and the loss is: 8.184997760890635\n",
      "When time is : 18200, get best_k: 16.271325069282312 best_b: -86.2153398924664, and the loss is: 8.184997760890635\n",
      "When time is : 18300, get best_k: 16.271325069282312 best_b: -86.2153398924664, and the loss is: 8.184997760890635\n",
      "When time is : 18400, get best_k: 16.271325069282312 best_b: -86.2153398924664, and the loss is: 8.184997760890635\n",
      "When time is : 18500, get best_k: 16.271325069282312 best_b: -86.2153398924664, and the loss is: 8.184997760890635\n",
      "When time is : 18600, get best_k: 16.271325069282312 best_b: -86.2153398924664, and the loss is: 8.184997760890635\n",
      "When time is : 18700, get best_k: 16.271325069282312 best_b: -86.2153398924664, and the loss is: 8.184997760890635\n",
      "When time is : 18800, get best_k: 16.271325069282312 best_b: -86.2153398924664, and the loss is: 8.184997760890635\n",
      "When time is : 18900, get best_k: 16.271325069282312 best_b: -86.2153398924664, and the loss is: 8.184997760890635\n",
      "When time is : 19000, get best_k: 16.271325069282312 best_b: -86.2153398924664, and the loss is: 8.184997760890635\n",
      "When time is : 19100, get best_k: 16.271325069282312 best_b: -86.2153398924664, and the loss is: 8.184997760890635\n",
      "When time is : 19200, get best_k: 16.271325069282312 best_b: -86.2153398924664, and the loss is: 8.184997760890635\n",
      "When time is : 19300, get best_k: 16.271325069282312 best_b: -86.2153398924664, and the loss is: 8.184997760890635\n",
      "When time is : 19400, get best_k: 16.271325069282312 best_b: -86.2153398924664, and the loss is: 8.184997760890635\n",
      "When time is : 19500, get best_k: 16.271325069282312 best_b: -86.2153398924664, and the loss is: 8.184997760890635\n",
      "When time is : 19600, get best_k: 16.271325069282312 best_b: -86.2153398924664, and the loss is: 8.184997760890635\n",
      "When time is : 19700, get best_k: 16.271325069282312 best_b: -86.2153398924664, and the loss is: 8.184997760890635\n",
      "When time is : 19800, get best_k: 16.271325069282312 best_b: -86.2153398924664, and the loss is: 8.184997760890635\n",
      "When time is : 19900, get best_k: 16.271325069282312 best_b: -86.2153398924664, and the loss is: 8.184997760890635\n"
     ]
    },
    {
     "data": {
      "image/png": "[encoded data removed]",
      "text/plain": [
       "<Figure size 432x288 with 1 Axes>"
      ]
     },
     "metadata": {
      "needs_background": "light"
     },
     "output_type": "display_data"
    }
   ],
   "source": [
    "#ass_house_price2.py\n",
    "\n",
    "from sklearn.datasets import load_boston\n",
    "import matplotlib.pyplot as plt\n",
    "import random\n",
    "\n",
    "data = load_boston()\n",
    "X, Y = data['data'], data['target']\n",
    "\n",
    "\n",
    "def draw_rm_and_price(X, Y):\n",
    "    plt.scatter(X[:, 5], Y)  # 房屋数量x 与 价格y\n",
    "    # plt.show()\n",
    "\n",
    "\n",
    "def price(rm, k, b):\n",
    "    return k * rm + b\n",
    "\n",
    "\n",
    "def loss_absolute(y, y_hat):\n",
    "    return sum(abs(y_i - y_hat_i) for y_i, y_hat_i in zip(y, y_hat)) / len(y)\n",
    "\n",
    "#draw_rm_and_price(X, Y)\n",
    "\n",
    "\n",
    "def partial_k(x, y, y_hat):\n",
    "    n = len(y)\n",
    "    gradient = 0\n",
    "    for x_i, y_i, y_hat_i in zip(list(x), list(y), list(y_hat)):\n",
    "        gradient += x_i\n",
    "    if y_i > y_hat_i:\n",
    "        return -1 / n * gradient\n",
    "    else:\n",
    "        return 1 / n * gradient\n",
    "\n",
    "\n",
    "def partial_b(x, y, y_hat):\n",
    "    n = len(y)\n",
    "    gradient = 0\n",
    "    for y_i, y_hat_i in zip(list(y), list(y_hat)):\n",
    "        gradient += 1\n",
    "    if y_i > y_hat_i:\n",
    "        return -1 / n * gradient\n",
    "    else:\n",
    "        return 1 / n * gradient\n",
    "\n",
    "\n",
    "def gradient_get_kb():\n",
    "    X_rm = X[:, 5]\n",
    "    trying_times = 20000\n",
    "    min_loss = float('inf')\n",
    "    current_k = random.random() * 200 - 100\n",
    "    current_b = random.random() * 50 - 100\n",
    "    learning_rate = 1e-04\n",
    "\n",
    "    for i in range(trying_times):\n",
    "        price_by_k_and_b = [price(r, current_k, current_b) for r in X_rm]\n",
    "        current_loss = loss_absolute(Y, price_by_k_and_b)\n",
    "        if i % 100 == 0:\n",
    "            print('When time is : {}, get best_k: {} best_b: {}, and the loss is: {}'.format(i, current_k, current_b,\n",
    "                                                                                                      current_loss))\n",
    "        k_gradient = partial_k(X_rm, Y, price_by_k_and_b)\n",
    "        b_gradient = partial_b(X_rm, Y, price_by_k_and_b)\n",
    "        current_k = current_k + (-1 * k_gradient) * learning_rate\n",
    "        current_b = current_b + (-1 * b_gradient) * learning_rate\n",
    "\n",
    "    price_by_final_k_and_b = [price(r, current_k, current_b) for r in X_rm]\n",
    "    draw_rm_and_price(X, Y)\n",
    "    plt.scatter(X_rm, price_by_final_k_and_b)\n",
    "    #plt.show()\n",
    "\n",
    "\n",
    "gradient_get_kb()"
   ]
  },
  {
   "cell_type": "markdown",
   "metadata": {},
   "source": [
    "### Part 3: Finish the Solution Parse Part of Edit-Distance"
   ]
  },
  {
   "cell_type": "code",
   "execution_count": 5,
   "metadata": {},
   "outputs": [
    {
     "name": "stdout",
     "output_type": "stream",
     "text": [
      "3\n",
      "{('A', 'A'): '', ('A', 'AB'): 'ADD B', ('A', 'ABC'): 'ADD C', ('A', 'ABCC'): 'ADD C', ('A', 'ABCCE'): 'ADD E', ('A', 'ABCCEF'): 'ADD F', ('A', 'ABCCEFH'): 'ADD H', ('AB', 'A'): 'DEL B', ('AB', 'AB'): '', ('AB', 'ABC'): 'ADD C', ('AB', 'ABCC'): 'ADD C', ('AB', 'ABCCE'): 'ADD E', ('AB', 'ABCCEF'): 'ADD F', ('AB', 'ABCCEFH'): 'ADD H', ('ABC', 'A'): 'DEL C', ('ABC', 'AB'): 'DEL C', ('ABC', 'ABC'): '', ('ABC', 'ABCC'): 'ADD C', ('ABC', 'ABCCE'): 'ADD E', ('ABC', 'ABCCEF'): 'ADD F', ('ABC', 'ABCCEFH'): 'ADD H', ('ABCD', 'A'): 'DEL D', ('ABCD', 'AB'): 'DEL D', ('ABCD', 'ABC'): 'DEL D', ('ABCD', 'ABCC'): 'SUB D => C', ('ABCD', 'ABCCE'): 'ADD E', ('ABCD', 'ABCCEF'): 'ADD F', ('ABCD', 'ABCCEFH'): 'ADD H', ('ABCDE', 'A'): 'DEL E', ('ABCDE', 'AB'): 'DEL E', ('ABCDE', 'ABC'): 'DEL E', ('ABCDE', 'ABCC'): 'DEL E', ('ABCDE', 'ABCCE'): '', ('ABCDE', 'ABCCEF'): 'ADD F', ('ABCDE', 'ABCCEFH'): 'ADD H', ('ABCDEG', 'A'): 'DEL G', ('ABCDEG', 'AB'): 'DEL G', ('ABCDEG', 'ABC'): 'DEL G', ('ABCDEG', 'ABCC'): 'DEL G', ('ABCDEG', 'ABCCE'): 'DEL G', ('ABCDEG', 'ABCCEF'): 'SUB G => F', ('ABCDEG', 'ABCCEFH'): 'ADD H'}\n",
      " \n",
      " A \n",
      " AB \n",
      " ABC \n",
      " SUB D => C  ABCC \n",
      " ABCDE \n",
      " SUB G => F  ABCDEF \n",
      " ADD H  ABCDEGH\n"
     ]
    }
   ],
   "source": [
    "#ass_edit_distance.py\n",
    "\n",
    "from functools import lru_cache\n",
    "\n",
    "solution = {}\n",
    "\n",
    "\n",
    "@lru_cache(maxsize=2 ** 10)\n",
    "def edit_distance(string1, string2):\n",
    "    if len(string1) == 0: return len(string2)\n",
    "    if len(string2) == 0: return len(string1)\n",
    "\n",
    "    tail_s1 = string1[-1]\n",
    "    tail_s2 = string2[-1]\n",
    "\n",
    "    candidates = [\n",
    "        (edit_distance(string1[:-1], string2) + 1, 'DEL {}'.format(tail_s1)),  # string 1 delete tail\n",
    "        (edit_distance(string1, string2[:-1]) + 1, 'ADD {}'.format(tail_s2)),  # string 1 add tail of string2\n",
    "    ]\n",
    "\n",
    "    if tail_s1 == tail_s2:\n",
    "        both_forward = (edit_distance(string1[:-1], string2[:-1]) + 0, '')\n",
    "    else:\n",
    "        both_forward = (edit_distance(string1[:-1], string2[:-1]) + 1, 'SUB {} => {}'.format(tail_s1, tail_s2))\n",
    "\n",
    "    candidates.append(both_forward)\n",
    "\n",
    "    min_distance, operation = min(candidates, key=lambda x: x[0])\n",
    "\n",
    "    solution[(string1, string2)] = operation\n",
    "\n",
    "    return min_distance\n",
    "\n",
    "\n",
    "def parse_solution(str1, str2):\n",
    "    if len(str1) == 0 and len(str2) == 0:\n",
    "        return ''\n",
    "    temp_str = solution[(str1, str2)]\n",
    "    temp_str1 = str1\n",
    "    temp_str2 = str2\n",
    "    if temp_str.find('ADD') > -1:\n",
    "        temp_str2 = str2[:-1]\n",
    "        temp_str += \"  \" + str1 + str2[-1]\n",
    "    elif temp_str.find('DEL') > -1:\n",
    "        temp_str1 = str1[:-1]\n",
    "        temp_str += \"  \" + temp_str1\n",
    "    elif temp_str.find('SUB') > -1:\n",
    "        temp_str2 = str2[:-1]\n",
    "        temp_str1 = str1[:-1]\n",
    "        temp_str += \"  \" + str1[:-1] + str2[-1]\n",
    "    else:\n",
    "        temp_str2 = str2[:-1]\n",
    "        temp_str1 = str1[:-1]\n",
    "        temp_str += str1\n",
    "    parse_solution(temp_str1, temp_str2)\n",
    "    return parse_solution(temp_str1, temp_str2) + ' \\n ' + temp_str\n",
    "\n",
    "print(edit_distance('ABCDEG', 'ABCCEFH'))\n",
    "print(solution)\n",
    "print(parse_solution('ABCDEG', 'ABCCEFH'))\n"
   ]
  },
  {
   "cell_type": "markdown",
   "metadata": {},
   "source": [
    "### Part 4 Choose 1 - 2 books to keep reading: \n",
    "\n",
    "+ SICP, Structure and Interpretation of Computer Programming. \n",
    "+ Introduction to Algorithms \n",
    "+ Artificial Intelligence A Modern Approach (3rd Edition) \n",
    "+ Code Complete 2 \n",
    "+ Programming Pearls \n",
    "+ Deep Learning\n",
    "+ 黑客与画家\n",
    "+ 数学之美\n",
    "+ Fluent Python\n",
    "+ Hands on Tensorflow\n",
    "+ Conference: NIPS_ ICML_ ICLR_ ACL_ AAAI\n",
    "\n",
    "> most books you may find in our github: https://github.com/Computing-Intelligence/References"
   ]
  },
  {
   "cell_type": "markdown",
   "metadata": {},
   "source": [
    "## Part 5-1: review machine learning"
   ]
  },
  {
   "cell_type": "markdown",
   "metadata": {},
   "source": [
    "1. Why do we use Derivative / Gredient to fit a target function?¶"
   ]
  },
  {
   "cell_type": "markdown",
   "metadata": {},
   "source": [
    "Ans: 因为函数复杂到一定程度时，不能够进行直接求解，只能向极值方向不断趋近。"
   ]
  },
  {
   "cell_type": "markdown",
   "metadata": {},
   "source": [
    "2. In the words 'Gredient Descent', what's the Gredient and what's the Descent?¶"
   ]
  },
  {
   "cell_type": "markdown",
   "metadata": {},
   "source": [
    "Ans: 梯度是损失函数对某个参数的偏导数，下降是指向梯度的反方向，从而得到最小值。"
   ]
  },
  {
   "cell_type": "markdown",
   "metadata": {},
   "source": [
    "\n",
    "3. What's the advantages of the 3rd gradient descent method compared to the previous methods?"
   ]
  },
  {
   "cell_type": "markdown",
   "metadata": {},
   "source": [
    "Ans: 通过梯度，每次都可以得到正确的方向，从而每次都可以向正确的方向前进。"
   ]
  },
  {
   "cell_type": "markdown",
   "metadata": {},
   "source": [
    "4. Using the simple words to describe: What's the machine leanring.¶"
   ]
  },
  {
   "cell_type": "markdown",
   "metadata": {},
   "source": [
    "Ans: 通过数据，得出拟合函数和参数。"
   ]
  },
  {
   "cell_type": "markdown",
   "metadata": {},
   "source": [
    "### Part 5: Answer following questions: "
   ]
  },
  {
   "cell_type": "markdown",
   "metadata": {},
   "source": [
    "1. Why do we need dynamic programming? What's the difference of dynamic programming and previous talked `search` problme? "
   ]
  },
  {
   "cell_type": "code",
   "execution_count": null,
   "metadata": {},
   "outputs": [],
   "source": [
    " 看了几篇文章，我觉得应该是这个吧。\n",
    "每个阶段的最优状态是由之前所有阶段的状态的组合得到的->搜索；\n",
    "每个阶段的最优状态可以从之前某个阶段的某个或某些状态直接得到而不管之前这个状态是如何得到的->动态规划"
   ]
  },
  {
   "cell_type": "markdown",
   "metadata": {},
   "source": [
    "2. Why do we still need dynamic programming? Why not we train a machine learning to fit a function which could get the `right` answer based on inputs?"
   ]
  },
  {
   "cell_type": "code",
   "execution_count": null,
   "metadata": {},
   "outputs": [],
   "source": [
    "有一些问题，使用动态规划可以比较简单的解决，而使用机器学习拟合函数的话，会变得更加复杂。"
   ]
  },
  {
   "cell_type": "markdown",
   "metadata": {},
   "source": [
    "3. Can you catch up at least 3 problems which could solved by Dynamic Programming? "
   ]
  },
  {
   "cell_type": "code",
   "execution_count": null,
   "metadata": {},
   "outputs": [],
   "source": [
    "找零钱，切割物品获得最大价值，最长公共子序列，矩阵乘法。"
   ]
  },
  {
   "cell_type": "markdown",
   "metadata": {},
   "source": [
    "4. Can you catch up at least 3 problems wich could sloved by Edit Distance? "
   ]
  },
  {
   "cell_type": "code",
   "execution_count": null,
   "metadata": {},
   "outputs": [],
   "source": [
    "输入法错误字符校正，文献著录项识别，搜索引擎关键字错别字猜测"
   ]
  },
  {
   "cell_type": "markdown",
   "metadata": {},
   "source": [
    "5. Please summarize the three main features of Dynamic Programming, and make a concise explain for each feature. "
   ]
  },
  {
   "cell_type": "code",
   "execution_count": null,
   "metadata": {},
   "outputs": [],
   "source": [
    "动态规划的无后效性：如果某阶段状态给定后，则在这个阶段以后过程的发展不受这个阶段以前各段状态的影响。\n",
    "最优子结构：每个阶段的最优状态可以从之前某个阶段的某个或某些状态直接得到\n",
    "重叠子问题：第一次计算的时候把结果记下来，当再次需要已计算过的结果时，直接使用。如果没有计算过，就再按照递推式计算"
   ]
  },
  {
   "cell_type": "markdown",
   "metadata": {},
   "source": [
    "6. What's the disadvantages of Dynamic Programming? (You may need search by yourself in Internet)"
   ]
  },
  {
   "cell_type": "markdown",
   "metadata": {},
   "source": [
    "没有统一的标准模型，也没有构造模型的通用方法，甚至还没有判断一个问题能否构造动态规划模型的准则。这样就只能对每类问题进行具体分析，构造具体的模型。对于较复杂的问题在选择状态、决策、确定状态转移规律等方面需要丰富的想象力和灵活的技巧性，这就带来了应用上的局限性\n",
    "用数值方法求解时存在维数灾（curse of dimensionality）。若一维状态变量有m个取值，那么对于n 维问题，状态就有m^n个值，对于每个状态值都要计算、存储函数"
   ]
  },
  {
   "cell_type": "markdown",
   "metadata": {},
   "source": [
    "## Part 6 Preparation of Project-01"
   ]
  },
  {
   "cell_type": "markdown",
   "metadata": {},
   "source": [
    "1. Using python Flask or Bottle to finish your first simple web app:\n",
    "> https://bottlepy.org/\n",
    "\n",
    "2. Learn what's the SQL, and try some simple SQL operations:\n",
    "> https://www.w3schools.com/sql/sql_intro.asp\n",
    "\n",
    "3. Learn what's the HTML ( *ONLY* need to know the basic things)\n",
    "> https://getbootstrap.com/; https://www.w3schools.com/html/"
   ]
  },
  {
   "cell_type": "markdown",
   "metadata": {},
   "source": [
    "### (Optinal) Finish the k-person-salesman problem:"
   ]
  },
  {
   "cell_type": "code",
   "execution_count": 7,
   "metadata": {},
   "outputs": [],
   "source": [
    "import random\n",
    "import matplotlib.pylab as plt"
   ]
  },
  {
   "cell_type": "code",
   "execution_count": 8,
   "metadata": {},
   "outputs": [],
   "source": [
    "latitudes = [random.randint(-100, 100) for _ in range(20)]\n",
    "longitude = [random.randint(-100, 100) for _ in range(20)]"
   ]
  },
  {
   "cell_type": "code",
   "execution_count": 9,
   "metadata": {},
   "outputs": [
    {
     "data": {
      "text/plain": [
       "<matplotlib.collections.PathCollection at 0x11da1c588>"
      ]
     },
     "execution_count": 9,
     "metadata": {},
     "output_type": "execute_result"
    },
    {
     "data": {
      "image/png": "[encoded data removed]",
      "text/plain": [
       "<Figure size 432x288 with 1 Axes>"
      ]
     },
     "metadata": {
      "needs_background": "light"
     },
     "output_type": "display_data"
    }
   ],
   "source": [
    "plt.scatter(latitudes, longitude)"
   ]
  },
  {
   "cell_type": "markdown",
   "metadata": {},
   "source": [
    "给定一个初始点 𝑃, 已经 𝑘个车辆，如何从该点出发，经这 k 个车辆经过所以的点全部一次，而且所走过的路程最短?\n",
    "\n",
    "例如："
   ]
  },
  {
   "cell_type": "code",
   "execution_count": 14,
   "metadata": {},
   "outputs": [],
   "source": [
    "chosen_p = (-50, 10)\n",
    "chosen_p2 = (1, 30)\n",
    "chosen_p3 = (99, 15)"
   ]
  },
  {
   "cell_type": "code",
   "execution_count": 4,
   "metadata": {},
   "outputs": [],
   "source": [
    "import matplotlib.pyplot as plt"
   ]
  },
  {
   "cell_type": "code",
   "execution_count": 15,
   "metadata": {
    "scrolled": true
   },
   "outputs": [
    {
     "data": {
      "text/plain": [
       "<matplotlib.collections.PathCollection at 0x11dbbd470>"
      ]
     },
     "execution_count": 15,
     "metadata": {},
     "output_type": "execute_result"
    },
    {
     "data": {
      "image/png": "[encoded data removed]",
      "text/plain": [
       "<Figure size 432x288 with 1 Axes>"
      ]
     },
     "metadata": {
      "needs_background": "light"
     },
     "output_type": "display_data"
    }
   ],
   "source": [
    "plt.scatter(latitudes, longitude)\n",
    "plt.scatter([chosen_p[0]], [chosen_p[1]], color='r')\n",
    "plt.scatter([chosen_p2[0]], [chosen_p2[1]], color='r')\n",
    "plt.scatter([chosen_p3[0]], [chosen_p3[1]], color='r')"
   ]
  },
  {
   "cell_type": "markdown",
   "metadata": {},
   "source": [
    "shuro"
   ]
  }
 ],
 "metadata": {
  "kernelspec": {
   "display_name": "Python 3",
   "language": "python",
   "name": "python3"
  },
  "language_info": {
   "codemirror_mode": {
    "name": "ipython",
    "version": 3
   },
   "file_extension": ".py",
   "mimetype": "text/x-python",
   "name": "python",
   "nbconvert_exporter": "python",
   "pygments_lexer": "ipython3",
   "version": "3.7.3"
  }
 },
 "nbformat": 4,
 "nbformat_minor": 2
}
