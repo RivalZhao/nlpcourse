{
 "cells": [
  {
   "cell_type": "code",
   "execution_count": null,
   "metadata": {},
   "outputs": [],
   "source": [
    "1. Summarize the reasons of overfitting and underfitting. Put them in GitHub repository.\n",
    "    模型复杂程度与数据复杂度不匹配。\n",
    "    overfitting：\n",
    "    模型复杂度过高\n",
    "    数据特征过多\n",
    "    样本选取有误\n",
    "    噪音太多，影响了模型\n",
    "    模型并不成立\n",
    "    \n",
    "    underfitting：\n",
    "    数据量不足\n",
    "    数据特征过少\n",
    "    模型复杂度过低\n",
    "    \n",
    "3. Writing down three sceneries that machine learning has been used now.\n",
    "    ①图片搜索找同款\n",
    "    ②垃圾短信识别\n",
    "    ③推荐购买的商品\n",
    "\n",
    "4. Come out with three new sceneries with which machine learning may be applied.\n",
    "    ①无人出租车\n",
    "    ②爬取网络文章，自动理解其中内容，自动完善知识图谱。\n",
    "    ③家务机器人"
   ]
  }
 ],
 "metadata": {
  "kernelspec": {
   "display_name": "Python 3",
   "language": "python",
   "name": "python3"
  },
  "language_info": {
   "codemirror_mode": {
    "name": "ipython",
    "version": 3
   },
   "file_extension": ".py",
   "mimetype": "text/x-python",
   "name": "python",
   "nbconvert_exporter": "python",
   "pygments_lexer": "ipython3",
   "version": "3.7.3"
  }
 },
 "nbformat": 4,
 "nbformat_minor": 2
}
